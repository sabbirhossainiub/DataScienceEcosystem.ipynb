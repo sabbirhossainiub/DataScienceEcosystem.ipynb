{
 "cells": [
  {
   "cell_type": "markdown",
   "id": "97207757-745b-4116-8525-be31a535ef7e",
   "metadata": {},
   "source": [
    "# Data Science Tools and Ecosystem"
   ]
  },
  {
   "cell_type": "markdown",
   "id": "105d782e-1574-45fb-85c6-e22669071331",
   "metadata": {},
   "source": [
    "# In this notebook, Data Science Tools and Ecosystem are summarized.\r\n"
   ]
  },
  {
   "cell_type": "markdown",
   "id": "1854134c-bafd-4b10-8e78-5c946f912db2",
   "metadata": {},
   "source": [
    "# Some of the popular languages that Data Scientists use are:\r\n",
    "\r\n",
    "1. Python\r\n",
    "2. R\r\n",
    "3. SQL\r\n"
   ]
  },
  {
   "cell_type": "markdown",
   "id": "5533094e-637f-4077-96b6-bd34be7c954d",
   "metadata": {},
   "source": [
    "# Some of the commonly used libraries used by Data Scientists include:\r\n",
    "\r\n",
    "1. Pandas\r\n",
    "2. NumPy\r\n",
    "3. Scikit-learn\r\n",
    "4. TensorFlow\r\n"
   ]
  },
  {
   "cell_type": "markdown",
   "id": "38c2877e-ed5c-4b51-ae9b-7c9041fa2757",
   "metadata": {},
   "source": [
    "# | Data Science Tools |\r\n",
    "|--------------------|\r\n",
    "| Jupyter Notebook   |\r\n",
    "| RStudio            |\r\n",
    "| Apache Zeppelin    |\r\n"
   ]
  },
  {
   "cell_type": "markdown",
   "id": "d81ea745-74df-4d11-9f4e-e394c73b01d0",
   "metadata": {},
   "source": [
    "# ### Below are a few examples of evaluating arithmetic expressions in Python.\r\n"
   ]
  },
  {
   "cell_type": "code",
   "execution_count": 1,
   "id": "4d3c28f2-a722-4648-bae6-6e62a8665f83",
   "metadata": {},
   "outputs": [
    {
     "data": {
      "text/plain": [
       "17"
      ]
     },
     "execution_count": 1,
     "metadata": {},
     "output_type": "execute_result"
    }
   ],
   "source": [
    "# This is a simple arithmetic expression to multiply then add integers\n",
    "result = (3 * 4) + 5\n",
    "result\n"
   ]
  },
  {
   "cell_type": "code",
   "execution_count": 2,
   "id": "ee0bd127-a622-4f6a-8b8e-f216c5dcaf1e",
   "metadata": {},
   "outputs": [
    {
     "data": {
      "text/plain": [
       "3.3333333333333335"
      ]
     },
     "execution_count": 2,
     "metadata": {},
     "output_type": "execute_result"
    }
   ],
   "source": [
    "# This will convert 200 minutes to hours by dividing by 60\n",
    "minutes = 200\n",
    "hours = minutes / 60\n",
    "hours\n"
   ]
  },
  {
   "cell_type": "markdown",
   "id": "a17d0104-c136-4c50-b69a-1b494dde3ee7",
   "metadata": {},
   "source": [
    "# **Objectives:**\r\n",
    "- List popular languages for Data Science.\r\n",
    "- List commonly used libraries in Data Science.\r\n",
    "- Create a table of Data Science tools.\r\n",
    "- Perform arithmetic operations and conversions.\r\n",
    "- Understand how to work with Jupyter Notebook cells.\r\n"
   ]
  },
  {
   "cell_type": "markdown",
   "id": "142e5eb5-ade2-4aed-a7f5-57816c65b2ab",
   "metadata": {},
   "source": [
    "# ## Author\r",
    "Sabbir Hossaine\r\n"
   ]
  },
  {
   "cell_type": "code",
   "execution_count": null,
   "id": "c62e0f29-b65f-455a-95fe-36176a777088",
   "metadata": {},
   "outputs": [],
   "source": []
  }
 ],
 "metadata": {
  "kernelspec": {
   "display_name": "Python 3 (ipykernel)",
   "language": "python",
   "name": "python3"
  },
  "language_info": {
   "codemirror_mode": {
    "name": "ipython",
    "version": 3
   },
   "file_extension": ".py",
   "mimetype": "text/x-python",
   "name": "python",
   "nbconvert_exporter": "python",
   "pygments_lexer": "ipython3",
   "version": "3.11.7"
  }
 },
 "nbformat": 4,
 "nbformat_minor": 5
}
